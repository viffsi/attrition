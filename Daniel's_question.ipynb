{
  "nbformat": 4,
  "nbformat_minor": 0,
  "metadata": {
    "colab": {
      "name": "Daniel's question.ipynb",
      "provenance": [],
      "authorship_tag": "ABX9TyMfo8yNRWYihTmYNkt7BzIA",
      "include_colab_link": true
    },
    "kernelspec": {
      "name": "python3",
      "display_name": "Python 3"
    }
  },
  "cells": [
    {
      "cell_type": "markdown",
      "metadata": {
        "id": "view-in-github",
        "colab_type": "text"
      },
      "source": [
        "<a href=\"https://colab.research.google.com/github/viffsi/attrition/blob/master/Daniel's_question.ipynb\" target=\"_parent\"><img src=\"https://colab.research.google.com/assets/colab-badge.svg\" alt=\"Open In Colab\"/></a>"
      ]
    },
    {
      "cell_type": "markdown",
      "metadata": {
        "colab_type": "text",
        "id": "bl0jd_uk6kt0"
      },
      "source": [
        "**And how can you minimise SST?**\n",
        "SST calculate the distance from data collected to the mean line, there is no way SST can be reduced if means line was calculated properly\n",
        "\n",
        "**What is the diff between Anova with equal means vs anova with unequal means?**\n",
        "\n",
        "**When can you use Anova?**\n",
        "you use anova when you are comparing 3 or more samples \n",
        "\n",
        "**What if I have two variables continuous, can I use anova?**\n",
        "\n",
        "**Or should I go for t test?**\n",
        "\n",
        "**And what about I have a categorical field comparing with a numerical field? Can I still use anova?**\n",
        "\n",
        "**When you compare two variables, what does R2 tells you?**\n",
        "how far is the variables from yhat line or how accurate is your predicted yhat compared to the real data. lower the futher, higher the nearer\n",
        "And also tells u how far is your yhat line away from the mean line\n",
        "\n",
        "**Is R2 equal to covariance?**\n",
        "No, R2 measures the distance of the data to the yhat line while covariance only tells you if your trend is positive(positive covariance),negative(negative covariance) or no trend(0 covariance)\n",
        "\n",
        "**And is that means field 1 causes field 2 if R2 is extremely high?**\n",
        "\n",
        "**Take your case and calculate by hand**\n",
        "Tried taking the case to calculate by hand, unsure why didn't get the expected result. decided to move on\n",
        "\n",
        "**Do you know what is the formula used in chi?**\n",
        "chi is used to determine hypothesis. \n",
        "\n",
        "**Also what do SelectKBest for?**\n",
        "\n",
        "**Can you tell me the diff between onehotencoder vs get dummy vs multicollabencoder**\n",
        "\n",
        "onehotencoder = break the string data into multiple column, work on numpy array\n",
        "\n",
        "get dummy = break the string data into multiple column, work on panda dataframe\n",
        "\n",
        "multicollabencober = convert categorised data to numeric\n",
        "\n",
        "**Which one is more practical and why?**\n",
        "\n",
        "**Can you also tell me what is the diff between fit and fit_transform**\n",
        "fit() = involve fitting model to the data \n",
        "transform() = encode/transform the data\n",
        "fit_transform() = pipeline both fit and transform\n",
        "\n",
        "**Inside ExtraTreeClassifer()What is the basic parameters used?**\n",
        "\n",
        "**What is the difference between GaussianNB and SVM?**\n",
        "\n",
        "**Are they both using hyperplan algorithms? If so? Do you still expect a big difference in the logic?**\n",
        "\n",
        "**You used StandardScaler why not use MinMaxScaler**\n",
        "\n",
        "**You used KSelectBest(..k=10)Why 10**\n",
        "\n",
        "**Why do you use Chi and not Gaussian?**\n",
        "\n"
      ]
    }
  ]
}