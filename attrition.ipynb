{
  "nbformat": 4,
  "nbformat_minor": 0,
  "metadata": {
    "colab": {
      "name": "attrition.ipynb",
      "provenance": [],
      "mount_file_id": "1gBvcSWN1-pBq7gmMQxjrOTdggnHIJGqb",
      "authorship_tag": "ABX9TyNqVacECF5qkBHqt9lGMRA3",
      "include_colab_link": true
    },
    "kernelspec": {
      "name": "python3",
      "display_name": "Python 3"
    }
  },
  "cells": [
    {
      "cell_type": "markdown",
      "metadata": {
        "id": "view-in-github",
        "colab_type": "text"
      },
      "source": [
        "<a href=\"https://colab.research.google.com/github/viffsi/attrition/blob/master/attrition.ipynb\" target=\"_parent\"><img src=\"https://colab.research.google.com/assets/colab-badge.svg\" alt=\"Open In Colab\"/></a>"
      ]
    },
    {
      "cell_type": "code",
      "metadata": {
        "id": "eCWFjcboApoj",
        "colab_type": "code",
        "outputId": "af4d6ee4-9319-4e59-d632-a57caaf1bfc3",
        "colab": {
          "base_uri": "https://localhost:8080/",
          "height": 119
        }
      },
      "source": [
        "from sklearn import model_selection, preprocessing, linear_model, naive_bayes, metrics, svm\n",
        "from sklearn.ensemble import RandomForestClassifier\n",
        "from sklearn.ensemble import ExtraTreesClassifier\n",
        "from sklearn.preprocessing import OneHotEncoder,StandardScaler\n",
        "import csv as csv\n",
        "import pandas as pd,  numpy, textblob, string\n",
        "import numpy as np\n",
        "from sklearn.model_selection import train_test_split\n",
        "from sklearn.naive_bayes import GaussianNB\n",
        "import os\n",
        "from sklearn import tree\n",
        "from sklearn.ensemble import RandomForestClassifier\n",
        "from sklearn.linear_model import LogisticRegression\n",
        "\n",
        "names = ['Age', 'Attrition', 'BusinessTravel','DailyRate','Department','DistanceFromHome','Education','EducationField','EmployeeCount','EmployeeNumber','EnvironmentSatisfaction','Gender','HourlyRate','JobInvolvement','JobLevel','JobRole','JobSatisfaction','MaritalStatus','MonthlyIncome','MonthlyRate','NumCompaniesWorked','Over18','OverTime','PercentSalaryHike','PerformanceRating','RelationshipSatisfaction','StandardHours','StockOptionLevel','TotalWorkingYears','TrainingTimesLastYear','WorkLifeBalance','YearsAtCompany','YearsInCurrentRole','YearsSinceLastPromotion','YearsWithCurrManager']\n",
        "df = pd.read_csv('/content/drive/My Drive/0Attrition/EmployeeAttrition.csv',header = 0,names=names)\n",
        "\n",
        "\n",
        "df_encode = pd.get_dummies(df, prefix_sep='_', drop_first=True)\n",
        "\n",
        "X = np.array(df_encode.drop(columns='Attrition_Yes'))\n",
        "Y = np.array(df_encode['Attrition_Yes'])\n",
        "\n",
        "sc = StandardScaler()\n",
        "X = sc.fit_transform(X) \n",
        "\n",
        "X_train, X_test, Y_train, Y_test = train_test_split(X, Y, test_size=0.2,random_state=0)\n",
        "\n",
        "gnb = GaussianNB()\n",
        "dcs = tree.DecisionTreeClassifier()\n",
        "extc = ExtraTreesClassifier()\n",
        "clfsvc = svm.SVC()\n",
        "rfc = RandomForestClassifier()\n",
        "lr = LogisticRegression()\n",
        "gnb.fit(X_train, Y_train)\n",
        "dcs.fit(X_train, Y_train)\n",
        "extc.fit(X_train, Y_train)\n",
        "clfsvc.fit(X_train, Y_train)\n",
        "rfc.fit(X_train, Y_train)\n",
        "lr.fit(X_train, Y_train)\n",
        "print(\"naive bayes = \" ,gnb.score(X_test, Y_test))\n",
        "print(\"DecisionTree = \" ,dcs.score(X_test, Y_test))\n",
        "print(\"Extratree = \" ,extc.score(X_test, Y_test))\n",
        "print(\"SVC = \" ,clfsvc.score(X_test, Y_test))\n",
        "print(\"randomforest = \" ,rfc.score(X_test, Y_test))\n",
        "print(\"Logisticregression = \" ,lr.score(X_test, Y_test))"
      ],
      "execution_count": 0,
      "outputs": [
        {
          "output_type": "stream",
          "text": [
            "naive bayes =  0.6530612244897959\n",
            "DecisionTree =  0.7755102040816326\n",
            "Extratree =  0.8605442176870748\n",
            "SVC =  0.8673469387755102\n",
            "randomforest =  0.8503401360544217\n",
            "Logisticregression =  0.8775510204081632\n"
          ],
          "name": "stdout"
        }
      ]
    }
  ]
}